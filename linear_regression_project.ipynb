{
 "cells": [
  {
   "cell_type": "markdown",
   "metadata": {},
   "source": [
    "# 1 矩阵运算\n",
    "\n",
    "## 1.1 创建一个 4*4 的单位矩阵"
   ]
  },
  {
   "cell_type": "code",
   "execution_count": null,
   "metadata": {
    "collapsed": true
   },
   "outputs": [],
   "source": [
    "# 这个项目设计来帮你熟悉 python list 和线性代数\n",
    "# 你不能调用任何python库，包括NumPy，来完成作业\n",
    "\n",
    "A = [[1,2,3], \n",
    "     [2,3,3], \n",
    "     [1,2,5]]\n",
    "\n",
    "B = [[1,2,3,5], \n",
    "     [2,3,3,5], \n",
    "     [1,2,5,1]]\n",
    "\n",
    "#TODO 创建一个 4*4 单位矩阵\n",
    "I = None"
   ]
  },
  {
   "cell_type": "markdown",
   "metadata": {},
   "source": [
    "## 1.2 返回矩阵的行和列"
   ]
  },
  {
   "cell_type": "code",
   "execution_count": null,
   "metadata": {
    "collapsed": false
   },
   "outputs": [],
   "source": [
    "# TODO 返回矩阵的行和列\n",
    "def shape(M):\n",
    "    return 0,0"
   ]
  },
  {
   "cell_type": "markdown",
   "metadata": {},
   "source": [
    "## 1.3 每个元素四舍五入到特定小数数位"
   ]
  },
  {
   "cell_type": "code",
   "execution_count": null,
   "metadata": {
    "collapsed": true
   },
   "outputs": [],
   "source": [
    "# TODO 每个元素四舍五入到特定小数数位\n",
    "# TODO 直接修改参数矩阵，不需要返回值\n",
    "def matxRound(M, decPts=4):\n",
    "    pass"
   ]
  },
  {
   "cell_type": "markdown",
   "metadata": {},
   "source": [
    "## 1.4 计算矩阵的转置"
   ]
  },
  {
   "cell_type": "code",
   "execution_count": null,
   "metadata": {
    "collapsed": true
   },
   "outputs": [],
   "source": [
    "# TODO 计算矩阵的转置\n",
    "def transpose(M):\n",
    "    return None"
   ]
  },
  {
   "cell_type": "markdown",
   "metadata": {},
   "source": [
    "## 1.5 计算矩阵乘法 AB"
   ]
  },
  {
   "cell_type": "code",
   "execution_count": null,
   "metadata": {
    "collapsed": true
   },
   "outputs": [],
   "source": [
    "# TODO 计算矩阵乘法 AB，如果无法相乘则返回None\n",
    "def matxMultiply(A, B):\n",
    "    return None"
   ]
  },
  {
   "cell_type": "markdown",
   "metadata": {},
   "source": [
    "## 1.6 测试你的函数是否实现正确"
   ]
  },
  {
   "cell_type": "code",
   "execution_count": null,
   "metadata": {
    "collapsed": true
   },
   "outputs": [],
   "source": [
    "#TODO 测试1.2 返回矩阵的行和列是否实现正确\n",
    "\n",
    "#TODO 测试1.3 每个元素四舍五入到特定小数数位是否实现正确\n",
    "\n",
    "#TODO 测试1.4 计算矩阵的转置是否实现正确\n",
    "\n",
    "#TODO 测试1.5 计算矩阵乘法 AB是否实现正确"
   ]
  },
  {
   "cell_type": "markdown",
   "metadata": {},
   "source": [
    "# 2 Gaussign Jordan 消元法\n",
    "\n",
    "## 2.1 Compute augmented Matrix "
   ]
  },
  {
   "cell_type": "code",
   "execution_count": null,
   "metadata": {
    "collapsed": true
   },
   "outputs": [],
   "source": [
    "#TODO augment matrix of matrix A and column vector b, assume A and b are comfortable\n",
    "def augmentMatrix(A, b):\n",
    "    return None"
   ]
  },
  {
   "cell_type": "markdown",
   "metadata": {},
   "source": [
    "## 2.2 Basic row operations\n",
    "1. exchange two rows\n",
    "2. scale a row\n",
    "3. add a scaled row to another\n",
    "\n",
    "in-place operation, no return value"
   ]
  },
  {
   "cell_type": "code",
   "execution_count": null,
   "metadata": {
    "collapsed": false
   },
   "outputs": [],
   "source": [
    "#TODO r1 <---> r2\n",
    "def swapRows(M, r1, r2):\n",
    "    pass\n",
    "\n",
    "#TODO r1 <--- r1 * scale\n",
    "def scaleRow(M, r, scale):\n",
    "    pass\n",
    "\n",
    "#TODO r1 <--- r1 + r2*scale\n",
    "def addScaledRow(M, r1, r2, scale):\n",
    "    pass"
   ]
  },
  {
   "cell_type": "markdown",
   "metadata": {},
   "source": [
    "## 2.3  Gauss-jordan method to solve Ax = b\n",
    "\n",
    "Pseudo code\n",
    "\n",
    "```\n",
    "def gj_solve(A, b)\n",
    "    test if A and b have same height\n",
    "    Ab = augmentMatrix(A, b) \n",
    "    \n",
    "    #Now we transfer Ab to reduced row echelon form, one column at at time\n",
    "    for every column c of A:\n",
    "        r = argmax(Ab[c..N, c])\n",
    "        if (Ab[r, c] == 0) A is singular\n",
    "        swapRow(Ab, r, c)\n",
    "        scaleRow(Ab, c, 1/Ab[c,c])\n",
    "        for all row r other than c:\n",
    "            addScaledRow(Ab, r, c, -Ab[r][c])\n",
    "            \n",
    "    #return the last column\n",
    "    return Ab[:, -1]\n",
    "```\n",
    "\n",
    "Make use of augmented matrix and row operations"
   ]
  },
  {
   "cell_type": "code",
   "execution_count": null,
   "metadata": {
    "collapsed": false
   },
   "outputs": [],
   "source": [
    "#TODO implement gaussian jordan method to solve Ax = b\n",
    "\n",
    "\"\"\" Gauss-jordan method to solve x such that Ax = b.\n",
    "        A: square matrix, list of lists\n",
    "        b: column vector, list of lists\n",
    "        decPts: degree of rounding, default value 4\n",
    "        epsilon: threshold for zero, default value 1.0e-16\n",
    "        \n",
    "    return x such that Ax = b, list of lists \n",
    "    return None if A and b have same height\n",
    "    return None if A is (almost) singular\n",
    "\"\"\"\n",
    "\n",
    "def gj_Solve(A, b, decPts=4, epsilon = 1.0e-16):\n",
    " \n",
    "    #test if A and b have same height\n",
    "\n",
    "    #make augment matrix Ab \n",
    "\n",
    "    #Now we transfer Ab to reduced row echelon form, one column at at time\n",
    "    \n",
    "    #for every column of A\n",
    "        #In column col under the diagnal, \n",
    "        #find index of the element with largest absolute value  \n",
    "        \n",
    "        #In column col under the diagnal, \n",
    "        #if the largest absolute value is zero (aka smaller than epsilon), \n",
    "        #then the matrix is singular\n",
    "        #P2.4 Prove the above proposition \n",
    "        \n",
    "        #swap rows to get largest absolute value element on the diagonal\n",
    "\n",
    "        #scale the row to make Ab[col][col] equals to 1\n",
    "\n",
    "        #eliminate(make them zero) everything else in column col. \n",
    "        \n",
    "    \n",
    "    #return the last column \n",
    "    return None"
   ]
  },
  {
   "cell_type": "markdown",
   "metadata": {},
   "source": [
    "## 2.4 Prove the following proposition:\n",
    "\n",
    "**If square matrix A can be divided into four parts: ** \n",
    "\n",
    "$ A = \\begin{bmatrix}\n",
    "    I    & X \\\\\n",
    "    Z    & Y \\\\\n",
    "\\end{bmatrix} $\n",
    "\n",
    "**where I is the identity matrix, Z is all zero and the first column of Y is all zero, then A is singular.**\n",
    "\n",
    "Hint: There are mutiple ways to prove this problem.  \n",
    "- consider the rank of Y and A\n",
    "- consider the determinate of Y and A \n",
    "- consider certain column is the linear combination of other columns"
   ]
  },
  {
   "cell_type": "markdown",
   "metadata": {},
   "source": [
    "TODO Proof: "
   ]
  },
  {
   "cell_type": "markdown",
   "metadata": {},
   "source": [
    "## 2.5 Test your gj_Solve() implementation"
   ]
  },
  {
   "cell_type": "code",
   "execution_count": null,
   "metadata": {
    "collapsed": false
   },
   "outputs": [],
   "source": [
    "# construct A and b where A is singular\n",
    "# construct A and b where A is not singular\n",
    "# solve x for  Ax = b \n",
    "# compute Ax\n",
    "# compare Ax and b\n",
    "\n",
    "# TODO"
   ]
  },
  {
   "cell_type": "markdown",
   "metadata": {},
   "source": [
    "# 3 Linear Regression: \n",
    "\n",
    "## 3.1 Compute loss function\n",
    "\n",
    "We define loss funtion E as \n",
    "$$\n",
    "E = \\sum_{i=1}^{n}{(y_i - mx_i - b)^2}\n",
    "$$\n",
    "\n",
    "Proves that \n",
    "$$\n",
    "E = Y^TY -2(Xh)^TY + (Xh)^TXh\n",
    "$$ \n",
    "\n",
    "\n",
    "$$ \n",
    "\\text{,where }\n",
    "Y =  \\begin{bmatrix}\n",
    "    y_1 \\\\\n",
    "    y_2 \\\\\n",
    "    ... \\\\\n",
    "    y_n\n",
    "\\end{bmatrix}\n",
    ",\n",
    "X =  \\begin{bmatrix}\n",
    "    x_1 & 1 \\\\\n",
    "    x_2 & 1\\\\\n",
    "    ... & ...\\\\\n",
    "    x_n & 1 \\\\\n",
    "\\end{bmatrix},\n",
    "h =  \\begin{bmatrix}\n",
    "    m \\\\\n",
    "    b \\\\\n",
    "\\end{bmatrix}\n",
    "$$"
   ]
  },
  {
   "cell_type": "markdown",
   "metadata": {},
   "source": [
    "TODO Proof: "
   ]
  },
  {
   "cell_type": "markdown",
   "metadata": {},
   "source": [
    "## 3.2 Compute the gradient of loss function with respect to parameters \n",
    "\n",
    "Proves that\n",
    "\n",
    "$$\n",
    "\\frac{\\partial E}{\\partial h} = 2X^TXh - 2X^TY\n",
    "$$"
   ]
  },
  {
   "cell_type": "markdown",
   "metadata": {},
   "source": [
    "TODO Proof:"
   ]
  },
  {
   "cell_type": "markdown",
   "metadata": {},
   "source": [
    "## 3.3  Compute linear regression by solving linear equaion gradient = 0 "
   ]
  },
  {
   "cell_type": "code",
   "execution_count": null,
   "metadata": {
    "collapsed": true
   },
   "outputs": [],
   "source": [
    "#TODO implement linear regression \n",
    "'''\n",
    "compute linear regression \n",
    "points: list of (x,y) tuple\n",
    "return m and b\n",
    "'''\n",
    "def linearRegression(points):\n",
    "    return 0,0"
   ]
  },
  {
   "cell_type": "markdown",
   "metadata": {},
   "source": [
    "## 3.4 Test your linear regression implementation"
   ]
  },
  {
   "cell_type": "code",
   "execution_count": null,
   "metadata": {
    "collapsed": false
   },
   "outputs": [],
   "source": [
    "#TODO Construct the linear function\n",
    "#TODO Construct points with gaussian noise\n",
    "import random\n",
    "#TODO Compute m and b and compare with ground truth"
   ]
  }
 ],
 "metadata": {
  "anaconda-cloud": {},
  "celltoolbar": "Raw Cell Format",
  "kernelspec": {
   "display_name": "Python 2",
   "language": "python",
   "name": "python2"
  },
  "language_info": {
   "codemirror_mode": {
    "name": "ipython",
    "version": 2
   },
   "file_extension": ".py",
   "mimetype": "text/x-python",
   "name": "python",
   "nbconvert_exporter": "python",
   "pygments_lexer": "ipython2",
   "version": "2.7.13"
  }
 },
 "nbformat": 4,
 "nbformat_minor": 2
}
